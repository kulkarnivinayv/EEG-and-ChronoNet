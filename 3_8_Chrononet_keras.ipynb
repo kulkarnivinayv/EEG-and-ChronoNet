{
  "nbformat": 4,
  "nbformat_minor": 0,
  "metadata": {
    "colab": {
      "name": "3.8 Chrononet_keras.ipynb",
      "provenance": [],
      "mount_file_id": "16XsdMN7twyjHr6xvDXVnmFRK6_jYJ8Sd",
      "authorship_tag": "ABX9TyMDUf4EOYrQSX4Np7mHe2Ri",
      "include_colab_link": true
    },
    "kernelspec": {
      "name": "python3",
      "display_name": "Python 3"
    },
    "language_info": {
      "name": "python"
    }
  },
  "cells": [
    {
      "cell_type": "markdown",
      "metadata": {
        "id": "view-in-github",
        "colab_type": "text"
      },
      "source": [
        "<a href=\"https://colab.research.google.com/github/kulkarnivinayv/EEG-and-ChronoNet/blob/main/3_8_Chrononet_keras.ipynb\" target=\"_parent\"><img src=\"https://colab.research.google.com/assets/colab-badge.svg\" alt=\"Open In Colab\"/></a>"
      ]
    },
    {
      "cell_type": "code",
      "source": [
        "%%capture\n",
        "!pip install mne\n",
        "!wget https://md-datasets-cache-zipfiles-prod.s3.eu-west-1.amazonaws.com/fshy54ypyh-1.zip -O data.zip\n",
        "!unzip data.zip"
      ],
      "metadata": {
        "id": "cDBDigcSttvg"
      },
      "execution_count": 1,
      "outputs": []
    },
    {
      "cell_type": "code",
      "source": [
        "from glob import glob\n",
        "import scipy.io\n",
        "import numpy as np\n",
        "import mne"
      ],
      "metadata": {
        "id": "3SGLdilM5njZ"
      },
      "execution_count": 2,
      "outputs": []
    },
    {
      "cell_type": "code",
      "source": [
        "IDD_data_path='/content/Data/CleanData/CleanData_TDC/Rest'\n",
        "TDC_data_path='/content/Data/Data/CleanData/Data/Data/CleanData/CleanData_IDD/Rest'\n",
        "!rm '/content/Data/Data/CleanData/Data/Data/CleanData/CleanData_IDD/Rest/NDS001_Rest_CD(1).mat'"
      ],
      "metadata": {
        "id": "JeSyhuxF5u9H"
      },
      "execution_count": 3,
      "outputs": []
    },
    {
      "cell_type": "code",
      "source": [
        "from glob import glob\n",
        "import scipy.io\n",
        "for idd in glob(IDD_data_path+'/*.mat'):\n",
        "  #print(idd)\n",
        "  data = scipy.io.loadmat(idd)\n",
        "  break"
      ],
      "metadata": {
        "id": "jtFrAZHpFfj7"
      },
      "execution_count": 17,
      "outputs": []
    },
    {
      "cell_type": "markdown",
      "source": [
        "## **Check whats inside the data.**"
      ],
      "metadata": {
        "id": "YB-cZAGjH4nD"
      }
    },
    {
      "cell_type": "code",
      "source": [
        "data.keys()"
      ],
      "metadata": {
        "colab": {
          "base_uri": "https://localhost:8080/"
        },
        "id": "dTWuxOE8H2XJ",
        "outputId": "03f794fe-97e1-4985-c6a4-929911b4035f"
      },
      "execution_count": 18,
      "outputs": [
        {
          "output_type": "execute_result",
          "data": {
            "text/plain": [
              "dict_keys(['__header__', '__version__', '__globals__', 'clean_data'])"
            ]
          },
          "metadata": {},
          "execution_count": 18
        }
      ]
    },
    {
      "cell_type": "code",
      "source": [
        "data = data['clean_data']\n",
        "data.shape"
      ],
      "metadata": {
        "colab": {
          "base_uri": "https://localhost:8080/"
        },
        "id": "VuluisHBIH6D",
        "outputId": "cd3b4cd2-67b2-4841-8b5b-285785c025e4"
      },
      "execution_count": 19,
      "outputs": [
        {
          "output_type": "execute_result",
          "data": {
            "text/plain": [
              "(14, 15360)"
            ]
          },
          "metadata": {},
          "execution_count": 19
        }
      ]
    },
    {
      "cell_type": "markdown",
      "source": [
        "***There are 14 channels and length of data is 15360 (fs = 128Hz)***"
      ],
      "metadata": {
        "id": "pil9BiOdKNza"
      }
    },
    {
      "cell_type": "markdown",
      "source": [
        "***Now need to convert this .mat file into MNE format.***"
      ],
      "metadata": {
        "id": "B-WUZap2Kdta"
      }
    },
    {
      "cell_type": "code",
      "source": [
        "def convertmat2mne(data):\n",
        "  ch_names = ['AF3', 'F7', 'F3', 'FC5', 'T7', 'P7', 'O1', 'O2', 'P8', 'T8', 'FC6', 'F4', 'F8', 'AF4']\n",
        "  ch_types = ['eeg'] * 14\n",
        "  sampling_freq=128\n",
        "  info = mne.create_info(ch_names, ch_types=ch_types, sfreq=sampling_freq)\n",
        "  info.set_montage('standard_1020')\n",
        "  data=mne.io.RawArray(data, info)\n",
        "  data.set_eeg_reference()\n",
        "  data.filter(l_freq=1,h_freq=30)\n",
        "  epochs=mne.make_fixed_length_epochs(data,duration=4,overlap=0)\n",
        "  return epochs.get_data()"
      ],
      "metadata": {
        "id": "KsSPQZRg6QmH"
      },
      "execution_count": 4,
      "outputs": []
    },
    {
      "cell_type": "code",
      "source": [
        "%%capture\n",
        "idd_subject=[]\n",
        "for idd in glob(IDD_data_path+'/*.mat'):\n",
        "  data=scipy.io.loadmat(idd)['clean_data']\n",
        "  data=convertmat2mne(data)\n",
        "  idd_subject.append(data)"
      ],
      "metadata": {
        "id": "00q4nFKm6cd-"
      },
      "execution_count": 20,
      "outputs": []
    },
    {
      "cell_type": "code",
      "source": [
        "%%capture\n",
        "tdc_subject=[]\n",
        "for tdc in glob(TDC_data_path+'/*.mat'):\n",
        "  data=scipy.io.loadmat(tdc)['clean_data']\n",
        "  data=convertmat2mne(data)\n",
        "  tdc_subject.append(data)"
      ],
      "metadata": {
        "id": "Kbtl5pCH6ro2"
      },
      "execution_count": 21,
      "outputs": []
    },
    {
      "cell_type": "markdown",
      "source": [
        "***Now the dataset is created 7 subjects of IDD and 7 subjects of TDC.***\n"
      ],
      "metadata": {
        "id": "ytNSmyYLT8pK"
      }
    },
    {
      "cell_type": "markdown",
      "source": [
        "***Lets now create labels for this data.***"
      ],
      "metadata": {
        "id": "8t3u8cneUR_K"
      }
    },
    {
      "cell_type": "code",
      "source": [
        "control_epochs_labels=[len(i)*[0] for i in tdc_subject]\n",
        "patients_epochs_labels=[len(i)*[1] for i in idd_subject]\n",
        "print(len(control_epochs_labels),len(patients_epochs_labels))"
      ],
      "metadata": {
        "colab": {
          "base_uri": "https://localhost:8080/"
        },
        "id": "7w8Gjh5a6yK4",
        "outputId": "fc92e66d-26a9-4e76-83a1-d5d012c2b790"
      },
      "execution_count": 26,
      "outputs": [
        {
          "output_type": "stream",
          "name": "stdout",
          "text": [
            "7 7\n"
          ]
        }
      ]
    },
    {
      "cell_type": "code",
      "source": [
        "data_list=tdc_subject+idd_subject\n",
        "label_list=control_epochs_labels+patients_epochs_labels\n",
        "groups_list=[[i]*len(j) for i, j in enumerate(data_list)]\n",
        "print(len(data_list),len(label_list),len(groups_list))"
      ],
      "metadata": {
        "colab": {
          "base_uri": "https://localhost:8080/"
        },
        "id": "lM6z_4bU7DAe",
        "outputId": "86559109-daee-44d0-f9ca-9a5a02da2c0b"
      },
      "execution_count": 30,
      "outputs": [
        {
          "output_type": "stream",
          "name": "stdout",
          "text": [
            "14 14 14\n"
          ]
        }
      ]
    },
    {
      "cell_type": "code",
      "source": [
        "from sklearn.model_selection import GroupKFold,LeaveOneGroupOut\n",
        "from sklearn.preprocessing import StandardScaler\n",
        "gkf=GroupKFold()\n",
        "from sklearn.base import TransformerMixin,BaseEstimator\n",
        "from sklearn.preprocessing import StandardScaler\n",
        "#https://stackoverflow.com/questions/50125844/how-to-standard-scale-a-3d-matrix\n",
        "class StandardScaler3D(BaseEstimator,TransformerMixin):\n",
        "    #batch, sequence, channels\n",
        "    def __init__(self):\n",
        "        self.scaler = StandardScaler()\n",
        "\n",
        "    def fit(self,X,y=None):\n",
        "        self.scaler.fit(X.reshape(-1, X.shape[2]))\n",
        "        return self\n",
        "\n",
        "    def transform(self,X):\n",
        "        return self.scaler.transform(X.reshape( -1,X.shape[2])).reshape(X.shape)"
      ],
      "metadata": {
        "id": "xQ7s1zka7HTv"
      },
      "execution_count": 36,
      "outputs": []
    },
    {
      "cell_type": "code",
      "source": [
        "import numpy as np\n",
        "data_array=np.concatenate(data_list)\n",
        "label_array=np.concatenate(label_list)\n",
        "group_array=np.concatenate(groups_list)\n",
        "data_array=np.moveaxis(data_array,1,2)\n",
        "\n",
        "print(data_array.shape,label_array.shape,group_array.shape)"
      ],
      "metadata": {
        "colab": {
          "base_uri": "https://localhost:8080/"
        },
        "id": "VecTFYKD7bNq",
        "outputId": "f05ca17c-eadd-42d8-d1fa-e661e9dd70f7"
      },
      "execution_count": 31,
      "outputs": [
        {
          "output_type": "stream",
          "name": "stdout",
          "text": [
            "(420, 512, 14) (420,) (420,)\n"
          ]
        }
      ]
    },
    {
      "cell_type": "markdown",
      "source": [
        "\n",
        "\n",
        "1.   420 are number of epochs/trials, \n",
        "2.   512 are samples or it is sequence length\n",
        "3.   14 are electrodes\n",
        "\n"
      ],
      "metadata": {
        "id": "kC4JvtJfX-Ly"
      }
    },
    {
      "cell_type": "code",
      "source": [
        "accuracy=[]\n",
        "for train_index, val_index in gkf.split(data_array, label_array, groups=group_array):\n",
        "    train_features,train_labels=data_array[train_index],label_array[train_index]\n",
        "    val_features,val_labels=data_array[val_index],label_array[val_index]\n",
        "    scaler=StandardScaler3D()\n",
        "    train_features=scaler.fit_transform(train_features)\n",
        "    val_features=scaler.transform(val_features)\n",
        "   \n",
        "\n",
        "    break"
      ],
      "metadata": {
        "id": "opezflow7fkm"
      },
      "execution_count": 38,
      "outputs": []
    },
    {
      "cell_type": "code",
      "source": [
        "train_features.shape"
      ],
      "metadata": {
        "colab": {
          "base_uri": "https://localhost:8080/"
        },
        "id": "44MxpT_t7xG-",
        "outputId": "ded7f6e3-d959-455a-89c5-9513a189fbc8"
      },
      "execution_count": 39,
      "outputs": [
        {
          "output_type": "execute_result",
          "data": {
            "text/plain": [
              "(330, 512, 14)"
            ]
          },
          "metadata": {},
          "execution_count": 39
        }
      ]
    },
    {
      "cell_type": "code",
      "source": [
        "from tensorflow.keras.layers import Input,Dense,concatenate,Flatten,GRU,Conv1D\n",
        "from tensorflow.keras.models import Model\n",
        "#resource:https://github.com/dll-ncai/eeg_pre-diagnostic_screening/blob/master/code/chrononet/chrono.py"
      ],
      "metadata": {
        "id": "8cxDdkS871NS"
      },
      "execution_count": 37,
      "outputs": []
    },
    {
      "cell_type": "code",
      "source": [
        "def block(input):\n",
        "  conv1 = Conv1D(32, 2, strides=2,activation='relu',padding=\"same\")(input)\n",
        "  conv2 = Conv1D(32, 4, strides=2,activation='relu',padding=\"causal\")(input)\n",
        "  conv3 = Conv1D(32, 8, strides=2,activation='relu',padding=\"causal\")(input)\n",
        "  x = concatenate([conv1,conv2,conv3],axis=2)\n",
        "  return x"
      ],
      "metadata": {
        "id": "OwUXPnWo8NZx"
      },
      "execution_count": 33,
      "outputs": []
    },
    {
      "cell_type": "code",
      "source": [
        "input= Input(shape=(512,14))\n",
        "block1=block(input)\n",
        "block2=block(block1)\n",
        "block3=block(block2)\n",
        "block3.shape"
      ],
      "metadata": {
        "id": "LqpVdU4H8Qsl",
        "colab": {
          "base_uri": "https://localhost:8080/"
        },
        "outputId": "01a9725c-e227-4170-f35e-a0ad54ea0d9e"
      },
      "execution_count": 50,
      "outputs": [
        {
          "output_type": "execute_result",
          "data": {
            "text/plain": [
              "TensorShape([None, 64, 96])"
            ]
          },
          "metadata": {},
          "execution_count": 50
        }
      ]
    },
    {
      "cell_type": "code",
      "source": [
        "gru_out1 = GRU(32,activation='tanh',return_sequences=True)(block3)\n",
        "gru_out2 = GRU(32,activation='tanh',return_sequences=True)(gru_out1)\n",
        "gru_out = concatenate([gru_out1,gru_out2],axis=2)\n",
        "gru_out3 = GRU(32,activation='tanh',return_sequences=True)(gru_out)\n",
        "gru_out = concatenate([gru_out1,gru_out2,gru_out3])\n",
        "gru_out4 = GRU(32,activation='tanh')(gru_out)"
      ],
      "metadata": {
        "id": "zn2AH3cK8cYK"
      },
      "execution_count": 51,
      "outputs": []
    },
    {
      "cell_type": "code",
      "source": [
        "predictions = Dense(1,activation='sigmoid')(gru_out4)\n",
        "model = Model(inputs=input, outputs=predictions)\n",
        "\n",
        "model.compile(optimizer = 'adam', loss = 'binary_crossentropy', metrics=['accuracy'])"
      ],
      "metadata": {
        "id": "n0ipY2Qq83ut"
      },
      "execution_count": 52,
      "outputs": []
    },
    {
      "cell_type": "code",
      "source": [
        "model.fit(train_features, train_labels, epochs= 10, batch_size = 128, validation_data = (val_features,val_labels))"
      ],
      "metadata": {
        "colab": {
          "base_uri": "https://localhost:8080/"
        },
        "id": "UcblBy1KbjeE",
        "outputId": "c2dad776-353e-44a2-b3d9-eec5186e0762"
      },
      "execution_count": 53,
      "outputs": [
        {
          "output_type": "stream",
          "name": "stdout",
          "text": [
            "Epoch 1/10\n",
            "3/3 [==============================] - 15s 1s/step - loss: 0.6774 - accuracy: 0.5424 - val_loss: 0.7248 - val_accuracy: 0.3333\n",
            "Epoch 2/10\n",
            "3/3 [==============================] - 1s 486ms/step - loss: 0.5997 - accuracy: 0.7515 - val_loss: 0.5395 - val_accuracy: 0.9333\n",
            "Epoch 3/10\n",
            "3/3 [==============================] - 2s 498ms/step - loss: 0.4456 - accuracy: 0.8909 - val_loss: 0.2903 - val_accuracy: 1.0000\n",
            "Epoch 4/10\n",
            "3/3 [==============================] - 2s 507ms/step - loss: 0.2347 - accuracy: 0.9848 - val_loss: 0.0964 - val_accuracy: 1.0000\n",
            "Epoch 5/10\n",
            "3/3 [==============================] - 2s 494ms/step - loss: 0.0819 - accuracy: 1.0000 - val_loss: 0.0302 - val_accuracy: 1.0000\n",
            "Epoch 6/10\n",
            "3/3 [==============================] - 2s 499ms/step - loss: 0.0248 - accuracy: 1.0000 - val_loss: 0.0186 - val_accuracy: 1.0000\n",
            "Epoch 7/10\n",
            "3/3 [==============================] - 2s 498ms/step - loss: 0.0110 - accuracy: 1.0000 - val_loss: 0.0066 - val_accuracy: 1.0000\n",
            "Epoch 8/10\n",
            "3/3 [==============================] - 2s 503ms/step - loss: 0.0058 - accuracy: 1.0000 - val_loss: 0.0047 - val_accuracy: 1.0000\n",
            "Epoch 9/10\n",
            "3/3 [==============================] - 2s 508ms/step - loss: 0.0044 - accuracy: 1.0000 - val_loss: 0.0034 - val_accuracy: 1.0000\n",
            "Epoch 10/10\n",
            "3/3 [==============================] - 2s 506ms/step - loss: 0.0031 - accuracy: 1.0000 - val_loss: 0.0028 - val_accuracy: 1.0000\n"
          ]
        },
        {
          "output_type": "execute_result",
          "data": {
            "text/plain": [
              "<keras.callbacks.History at 0x7f75ca82b9d0>"
            ]
          },
          "metadata": {},
          "execution_count": 53
        }
      ]
    },
    {
      "cell_type": "code",
      "source": [
        "model.evaluate(val_features,val_labels)"
      ],
      "metadata": {
        "colab": {
          "base_uri": "https://localhost:8080/"
        },
        "id": "UnB-CdfFccxa",
        "outputId": "c9ae0578-965e-49c6-dfbd-12e826550901"
      },
      "execution_count": 54,
      "outputs": [
        {
          "output_type": "stream",
          "name": "stdout",
          "text": [
            "3/3 [==============================] - 0s 54ms/step - loss: 0.0028 - accuracy: 1.0000\n"
          ]
        },
        {
          "output_type": "execute_result",
          "data": {
            "text/plain": [
              "[0.002780498005449772, 1.0]"
            ]
          },
          "metadata": {},
          "execution_count": 54
        }
      ]
    }
  ]
}